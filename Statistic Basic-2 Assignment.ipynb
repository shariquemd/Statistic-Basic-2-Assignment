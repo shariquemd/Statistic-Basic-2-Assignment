{
 "cells": [
  {
   "cell_type": "markdown",
   "id": "9ac9a05c",
   "metadata": {},
   "source": [
    "# Answer1"
   ]
  },
  {
   "cell_type": "code",
   "execution_count": null,
   "id": "888f143e",
   "metadata": {},
   "outputs": [],
   "source": [
    "The three measure of central tendancy:\n",
    "(i)Mean\n",
    "(ii)Median\n",
    "(iii)Mode"
   ]
  },
  {
   "cell_type": "markdown",
   "id": "94016c6a",
   "metadata": {},
   "source": [
    "# Answer2"
   ]
  },
  {
   "cell_type": "code",
   "execution_count": null,
   "id": "eaa02ce4",
   "metadata": {},
   "outputs": [],
   "source": [
    "Measures of Central Tendency:\n",
    "\n",
    "Mean (Average):\n",
    "Calculation: Sum of all values divided by the number of values.\n",
    "Use: Represents the typical value; sensitive to outliers.\n",
    "\n",
    "Median:\n",
    "Calculation: Middle value when data is sorted; or average of two middle values.\n",
    "Use: Less affected by extreme values; indicates the central position.\n",
    "\n",
    "Mode:\n",
    "Calculation: Most frequently occurring value.\n",
    "Use: Describes the most common value(s); applicable to categorical and numerical data."
   ]
  },
  {
   "cell_type": "markdown",
   "id": "6b5663b2",
   "metadata": {},
   "source": [
    "# Answer3"
   ]
  },
  {
   "cell_type": "code",
   "execution_count": 5,
   "id": "985409eb",
   "metadata": {},
   "outputs": [],
   "source": [
    "heights=[178,177,176,177,178.2,178,175,179,180,175,178.9,176.2,177,172.5,178,176.5]"
   ]
  },
  {
   "cell_type": "code",
   "execution_count": 6,
   "id": "8b75b4ad",
   "metadata": {},
   "outputs": [
    {
     "data": {
      "text/plain": [
       "177.01875"
      ]
     },
     "execution_count": 6,
     "metadata": {},
     "output_type": "execute_result"
    }
   ],
   "source": [
    "import numpy as np\n",
    "np.mean(heights)"
   ]
  },
  {
   "cell_type": "code",
   "execution_count": 7,
   "id": "cd39e491",
   "metadata": {},
   "outputs": [
    {
     "data": {
      "text/plain": [
       "177.0"
      ]
     },
     "execution_count": 7,
     "metadata": {},
     "output_type": "execute_result"
    }
   ],
   "source": [
    "np.median(heights)"
   ]
  },
  {
   "cell_type": "code",
   "execution_count": 8,
   "id": "0ecb1305",
   "metadata": {},
   "outputs": [
    {
     "name": "stderr",
     "output_type": "stream",
     "text": [
      "C:\\Users\\hp\\AppData\\Local\\Temp\\ipykernel_16700\\2713150148.py:2: FutureWarning: Unlike other reduction functions (e.g. `skew`, `kurtosis`), the default behavior of `mode` typically preserves the axis it acts along. In SciPy 1.11.0, this behavior will change: the default value of `keepdims` will become False, the `axis` over which the statistic is taken will be eliminated, and the value None will no longer be accepted. Set `keepdims` to True or False to avoid this warning.\n",
      "  stats.mode(heights)\n"
     ]
    },
    {
     "data": {
      "text/plain": [
       "ModeResult(mode=array([177.]), count=array([3]))"
      ]
     },
     "execution_count": 8,
     "metadata": {},
     "output_type": "execute_result"
    }
   ],
   "source": [
    "from scipy import stats\n",
    "stats.mode(heights)"
   ]
  },
  {
   "cell_type": "markdown",
   "id": "f8b5d331",
   "metadata": {},
   "source": [
    "# Answer4"
   ]
  },
  {
   "cell_type": "code",
   "execution_count": null,
   "id": "7917492a",
   "metadata": {},
   "outputs": [],
   "source": [
    "heights=[178,177,176,177,178.2,178,175,179,180,175,178.9,176.2,177,172.5,178,176.5]"
   ]
  },
  {
   "cell_type": "code",
   "execution_count": 10,
   "id": "58d9c7d4",
   "metadata": {},
   "outputs": [
    {
     "data": {
      "text/plain": [
       "1.7885814036548633"
      ]
     },
     "execution_count": 10,
     "metadata": {},
     "output_type": "execute_result"
    }
   ],
   "source": [
    "np.std(heights)"
   ]
  },
  {
   "cell_type": "markdown",
   "id": "d8ec2970",
   "metadata": {},
   "source": [
    "# Answer5"
   ]
  },
  {
   "cell_type": "code",
   "execution_count": null,
   "id": "5aeda29a",
   "metadata": {},
   "outputs": [],
   "source": [
    "Measures of dispersion, such as range, variance, and standard deviation, provide insights into how spread out or clustered the values in a dataset are.\n",
    "Range:\n",
    "Example: If you have a dataset of test scores (90, 85, 92, 78, 95), the range is 95 - 78 = 17. This tells you that the scores vary by 17 points.\n",
    "\n",
    "Variance and Standard Deviation:\n",
    "Example: Consider two datasets of test scores:\n",
    "Dataset A: (90, 85, 92, 78, 95)\n",
    "Dataset B: (88, 89, 90, 91, 92)\n",
    "Both datasets have a mean of 88, but Dataset A has a higher standard deviation. This means that scores in Dataset A are more spread out from the mean compared to Dataset B."
   ]
  },
  {
   "cell_type": "markdown",
   "id": "264b9f8b",
   "metadata": {},
   "source": [
    "# Answer6"
   ]
  },
  {
   "cell_type": "code",
   "execution_count": null,
   "id": "0558717f",
   "metadata": {},
   "outputs": [],
   "source": [
    "A Venn diagram is a visual representation that uses overlapping \n",
    "circles to show the relationships between sets. Each circle represents \n",
    "a set, and the overlapping areas represent the elements that are \n",
    "common to both sets. Venn diagrams are widely used to illustrate the \n",
    "intersections and differences between different groups or categories."
   ]
  },
  {
   "cell_type": "markdown",
   "id": "5a9590dd",
   "metadata": {},
   "source": [
    "# Answer7"
   ]
  },
  {
   "cell_type": "code",
   "execution_count": 14,
   "id": "0037925d",
   "metadata": {},
   "outputs": [],
   "source": [
    "A = {2,3,4,5,6,7}  \n",
    "B = {0,2,6,8,10}"
   ]
  },
  {
   "cell_type": "code",
   "execution_count": 17,
   "id": "62184250",
   "metadata": {},
   "outputs": [
    {
     "data": {
      "text/plain": [
       "{2, 6}"
      ]
     },
     "execution_count": 17,
     "metadata": {},
     "output_type": "execute_result"
    }
   ],
   "source": [
    "A.intersection(B)"
   ]
  },
  {
   "cell_type": "code",
   "execution_count": 18,
   "id": "6310f521",
   "metadata": {},
   "outputs": [
    {
     "data": {
      "text/plain": [
       "{0, 2, 3, 4, 5, 6, 7, 8, 10}"
      ]
     },
     "execution_count": 18,
     "metadata": {},
     "output_type": "execute_result"
    }
   ],
   "source": [
    "A.union(B)"
   ]
  },
  {
   "cell_type": "markdown",
   "id": "7e7798cb",
   "metadata": {},
   "source": [
    "# Answer8"
   ]
  },
  {
   "cell_type": "code",
   "execution_count": null,
   "id": "0dc1203a",
   "metadata": {},
   "outputs": [],
   "source": [
    "Skewness is a measure of the asymmetry or lack of symmetry in a \n",
    "distribution of data. In a perfectly symmetrical distribution, the \n",
    "left and right sides of the histogram or probability density function \n",
    "are mirror images of each other. However, in skewed distributions, \n",
    "the tail on one side is longer or fatter than the other, leading to \n",
    "a lack of symmetry.\n",
    "\n",
    "There are two main types of skewness:\n",
    "(i)Right Skewness\n",
    "(ii)Left Skewness"
   ]
  },
  {
   "cell_type": "markdown",
   "id": "d0bd275c",
   "metadata": {},
   "source": [
    "# Answer9"
   ]
  },
  {
   "cell_type": "code",
   "execution_count": null,
   "id": "f474e928",
   "metadata": {},
   "outputs": [],
   "source": [
    "Mean>Median>Mode"
   ]
  },
  {
   "cell_type": "markdown",
   "id": "cc862f6a",
   "metadata": {},
   "source": [
    "# Answer10"
   ]
  },
  {
   "cell_type": "code",
   "execution_count": null,
   "id": "dbc91a81",
   "metadata": {},
   "outputs": [],
   "source": [
    "Covariance:It is a measure of how much two variables change together.\n",
    "It indicates the direction of the linear relationship between \n",
    "variables.\n",
    "\n",
    "Correlation:It is a standardized measure of the strength and \n",
    "direction of the linear relationship between two variables. It \n",
    "provides a more interpretable comparison than covariance.\n",
    "\n",
    "they are used in statistical analysis:\n",
    "Covariance: Covariance is used to understand the direction of the \n",
    "relationship between two variables. However, its value depends on the\n",
    "units of the variables, making it difficult to compare the strength \n",
    "of relationships between different pairs of variables.\n",
    "\n",
    "Correlation: Correlation, being unitless and standardized, is widely \n",
    "used to compare and interpret the strength and direction of relationships \n",
    "between variables. It allows for a more meaningful comparison between \n",
    "different pairs of variables and is less sensitive to the scale of the \n",
    "variables."
   ]
  },
  {
   "cell_type": "markdown",
   "id": "4e2e9b80",
   "metadata": {},
   "source": [
    "# Answer11"
   ]
  },
  {
   "cell_type": "code",
   "execution_count": null,
   "id": "69b2db6e",
   "metadata": {},
   "outputs": [],
   "source": [
    "Mean=Sum of all individual points/No. of data points"
   ]
  },
  {
   "cell_type": "code",
   "execution_count": 22,
   "id": "59f3728b",
   "metadata": {},
   "outputs": [],
   "source": [
    " Example:[75,80,85,90]\n",
    "    mean=(75+80+85+90)/4\n",
    "    mean=82.5"
   ]
  },
  {
   "cell_type": "markdown",
   "id": "163bf503",
   "metadata": {},
   "source": [
    "# Answer12"
   ]
  },
  {
   "cell_type": "code",
   "execution_count": null,
   "id": "00bb7587",
   "metadata": {},
   "outputs": [],
   "source": [
    "For a normal distribution, the mean, median, and mode are all equal \n",
    "and located at the center of the distribution. In a perfectly \n",
    "symmetrical normal distribution:"
   ]
  },
  {
   "cell_type": "markdown",
   "id": "80b80b11",
   "metadata": {},
   "source": [
    "# Answer13"
   ]
  },
  {
   "cell_type": "code",
   "execution_count": null,
   "id": "e2842c65",
   "metadata": {},
   "outputs": [],
   "source": [
    "Covariance:It is a measure of how much two variables change together.\n",
    "It indicates the direction of the linear relationship between \n",
    "variables.\n",
    "\n",
    "Correlation:It is a standardized measure of the strength and \n",
    "direction of the linear relationship between two variables. It \n",
    "provides a more interpretable comparison than covariance."
   ]
  },
  {
   "cell_type": "markdown",
   "id": "0797c7e3",
   "metadata": {},
   "source": [
    "# Answer14"
   ]
  },
  {
   "cell_type": "code",
   "execution_count": null,
   "id": "dd6623ca",
   "metadata": {},
   "outputs": [],
   "source": [
    "Effects of Outliers on Measures of Central Tendency:\n",
    "Mean:\n",
    "Example: Consider the dataset: 10, 15, 20, 25, 100. The mean is \n",
    "(10+15+20+25+100)/5=34. The outlier (100) significantly influences \n",
    "the mean, making it higher than the typical values in the dataset.\n",
    "\n",
    "Median:\n",
    "Example: Using the same dataset, the median is 20. The median is less\n",
    "affected by outliers since it is not influenced by extreme values. \n",
    "It provides a better representation of the center of the data in the \n",
    "presence of outliers.\n",
    "\n",
    "Mode:\n",
    "Example: In the dataset, there is no mode since no value repeats. \n",
    "The presence of an outlier doesn't impact the concept of mode.\n",
    "    \n",
    "Outliers can heavily influence the mean and measures that involve \n",
    "squared differences (variance, standard deviation), but measures like\n",
    "the median and interquartile range are more robust in the presence of\n",
    "outliers. Understanding the impact of outliers is crucial for accurate \n",
    "data analysis and interpretation."
   ]
  }
 ],
 "metadata": {
  "kernelspec": {
   "display_name": "Python 3 (ipykernel)",
   "language": "python",
   "name": "python3"
  },
  "language_info": {
   "codemirror_mode": {
    "name": "ipython",
    "version": 3
   },
   "file_extension": ".py",
   "mimetype": "text/x-python",
   "name": "python",
   "nbconvert_exporter": "python",
   "pygments_lexer": "ipython3",
   "version": "3.11.4"
  }
 },
 "nbformat": 4,
 "nbformat_minor": 5
}
